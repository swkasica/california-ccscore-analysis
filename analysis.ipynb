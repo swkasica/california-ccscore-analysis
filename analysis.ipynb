{
 "cells": [
  {
   "cell_type": "markdown",
   "metadata": {},
   "source": [
    "# California \"Conservation-Consumption Score\" analysis\n",
    "\n",
    "By Ryan Menezes, Matt Stevens and Ben Welsh"
   ]
  },
  {
   "cell_type": "markdown",
   "metadata": {},
   "source": [
    "[A Los Angeles Times analysis published on Oct. 31, 2016](http://www.latimes.com/local/lanow/la-me-ln-water-conservation-backslide-20161018-snap-htmlstory.html), found that the overwhelming majority of California water districts increased their usage after the state eased its drought restrictions. Some of the most extreme increases were found in inland Northern California, led by the San Juan Water District near Folsom Lake.\n",
    "\n",
    "How did The Times come to that conclusion? Using the computer code that follows.\n",
    "\n",
    "**Here's how it worked.**\n",
    "\n",
    "We started by downloading data from California’s State Water Resources Control Board, which publishes a monthly accounting of each district’s water usage on its website.\n",
    "\n",
    "That data has been used by state regulators to monitor and enforce mandatory water-use reductions introduced as part of the state’s emergency drought response. Regulators ended mandatory conservation for the vast majority of urban water suppliers this spring.\n",
    "\n",
    "The state measures each district’s water savings by comparing the number of gallons it supplies to homes, businesses and institutions each month versus the same month in 2013, a baseline that precedes Gov. Jerry Brown’s proclamation of a drought State of Emergency.\n",
    "\n",
    "The code below calculates that statistic for three months this summer after restrictions were eased, then compares it against the same months in 2015. In total, 93% of 387 districts increased water usage this year. Nineteen districts were excluded because they did not report enough data to the state.\n",
    "\n",
    "California’s water districts vary greatly in size, from large urban areas like Los Angeles to small districts in the rural north. To compare suppliers and identify areas where residents use large amounts of water at home, state officials also track the total amount of water used by each district’s average resident each day.\n",
    "\n",
    "This code combines that measure with each district’s change in total summer water usage to create a ranking we’re calling a Conservation-Consumption Score. By including both factors, this statistic -- sometimes known as a z-score -- better identifies areas where residents account for increases.\n",
    "\n",
    "Some of the highest ranking districts by this score were found in Northern California and around Folsom Lake near Sacramento. The top score belonged to the San Juan Water District, the ultimate focus of our story."
   ]
  },
  {
   "cell_type": "markdown",
   "metadata": {},
   "source": [
    "##### Import and configure analysis tools."
   ]
  },
  {
   "cell_type": "code",
   "execution_count": 1,
   "metadata": {},
   "outputs": [],
   "source": [
    "from __future__ import division, barry_as_FLUFL\n",
    "import os\n",
    "import pandas as pd\n",
    "import numpy as np\n",
    "import matplotlib.pyplot as plt\n",
    "%matplotlib inline"
   ]
  },
  {
   "cell_type": "code",
   "execution_count": 2,
   "metadata": {},
   "outputs": [],
   "source": [
    "pd.set_option('display.float_format', lambda x: '%.2f' % x)\n",
    "pd.set_option(\"display.max_columns\", 500)"
   ]
  },
  {
   "cell_type": "markdown",
   "metadata": {},
   "source": [
    "##### Import raw water usage data from the state "
   ]
  },
  {
   "cell_type": "code",
   "execution_count": 3,
   "metadata": {},
   "outputs": [],
   "source": [
    "supplier_path = os.path.join(os.getcwd(), 'uw_supplier_data100516.xlsx')"
   ]
  },
  {
   "cell_type": "code",
   "execution_count": 4,
   "metadata": {},
   "outputs": [],
   "source": [
    "SUPPLIER_TABLE = pd.read_excel(supplier_path)"
   ]
  },
  {
   "cell_type": "markdown",
   "metadata": {},
   "source": [
    "##### Keep the columns we want"
   ]
  },
  {
   "cell_type": "code",
   "execution_count": 5,
   "metadata": {},
   "outputs": [],
   "source": [
    "supplier_table = SUPPLIER_TABLE.iloc[:,[0,3,18,19,21]]"
   ]
  },
  {
   "cell_type": "code",
   "execution_count": 6,
   "metadata": {},
   "outputs": [],
   "source": [
    "supplier_table.columns = [\n",
    "    'supplier_name',\n",
    "    'month',\n",
    "    'total_water_production_gallons',\n",
    "    'total_water_production_gallons_2013',\n",
    "    'residential_water_usage'\n",
    "]"
   ]
  },
  {
   "cell_type": "markdown",
   "metadata": {},
   "source": [
    "##### Clean them up"
   ]
  },
  {
   "cell_type": "code",
   "execution_count": 7,
   "metadata": {},
   "outputs": [
    {
     "data": {
      "text/plain": [
       "supplier_name                                  object\n",
       "month                                  datetime64[ns]\n",
       "total_water_production_gallons                float64\n",
       "total_water_production_gallons_2013           float64\n",
       "residential_water_usage                       float64\n",
       "dtype: object"
      ]
     },
     "execution_count": 7,
     "metadata": {},
     "output_type": "execute_result"
    }
   ],
   "source": [
    "# Added by Steve to determine original type of month\n",
    "supplier_table.dtypes"
   ]
  },
  {
   "cell_type": "code",
   "execution_count": 8,
   "metadata": {},
   "outputs": [
    {
     "name": "stderr",
     "output_type": "stream",
     "text": [
      "/opt/conda/lib/python3.7/site-packages/ipykernel_launcher.py:1: SettingWithCopyWarning: \n",
      "A value is trying to be set on a copy of a slice from a DataFrame.\n",
      "Try using .loc[row_indexer,col_indexer] = value instead\n",
      "\n",
      "See the caveats in the documentation: http://pandas.pydata.org/pandas-docs/stable/indexing.html#indexing-view-versus-copy\n",
      "  \"\"\"Entry point for launching an IPython kernel.\n"
     ]
    }
   ],
   "source": [
    "supplier_table['month'] = supplier_table['month'].astype(str)"
   ]
  },
  {
   "cell_type": "code",
   "execution_count": 9,
   "metadata": {},
   "outputs": [
    {
     "name": "stdout",
     "output_type": "stream",
     "text": [
      "<class 'pandas.core.frame.DataFrame'>\n",
      "RangeIndex: 10936 entries, 0 to 10935\n",
      "Data columns (total 5 columns):\n",
      "supplier_name                          10936 non-null object\n",
      "month                                  10936 non-null object\n",
      "total_water_production_gallons         10936 non-null float64\n",
      "total_water_production_gallons_2013    10936 non-null float64\n",
      "residential_water_usage                10936 non-null float64\n",
      "dtypes: float64(3), object(2)\n",
      "memory usage: 427.3+ KB\n"
     ]
    }
   ],
   "source": [
    "supplier_table.info()"
   ]
  },
  {
   "cell_type": "code",
   "execution_count": 10,
   "metadata": {},
   "outputs": [
    {
     "data": {
      "text/html": [
       "<div>\n",
       "<style scoped>\n",
       "    .dataframe tbody tr th:only-of-type {\n",
       "        vertical-align: middle;\n",
       "    }\n",
       "\n",
       "    .dataframe tbody tr th {\n",
       "        vertical-align: top;\n",
       "    }\n",
       "\n",
       "    .dataframe thead th {\n",
       "        text-align: right;\n",
       "    }\n",
       "</style>\n",
       "<table border=\"1\" class=\"dataframe\">\n",
       "  <thead>\n",
       "    <tr style=\"text-align: right;\">\n",
       "      <th></th>\n",
       "      <th>supplier_name</th>\n",
       "      <th>month</th>\n",
       "      <th>total_water_production_gallons</th>\n",
       "      <th>total_water_production_gallons_2013</th>\n",
       "      <th>residential_water_usage</th>\n",
       "    </tr>\n",
       "  </thead>\n",
       "  <tbody>\n",
       "    <tr>\n",
       "      <th>0</th>\n",
       "      <td>East Bay Municipal Utilities District</td>\n",
       "      <td>2016-08-15</td>\n",
       "      <td>6007500000.00</td>\n",
       "      <td>7172300000.00</td>\n",
       "      <td>84.44</td>\n",
       "    </tr>\n",
       "    <tr>\n",
       "      <th>1</th>\n",
       "      <td>East Bay Municipal Utilities District</td>\n",
       "      <td>2016-07-15</td>\n",
       "      <td>6056600000.00</td>\n",
       "      <td>7452200000.00</td>\n",
       "      <td>83.73</td>\n",
       "    </tr>\n",
       "    <tr>\n",
       "      <th>2</th>\n",
       "      <td>East Bay Municipal Utilities District</td>\n",
       "      <td>2016-06-15</td>\n",
       "      <td>5675900000.00</td>\n",
       "      <td>6927500000.00</td>\n",
       "      <td>82.44</td>\n",
       "    </tr>\n",
       "    <tr>\n",
       "      <th>3</th>\n",
       "      <td>East Bay Municipal Utilities District</td>\n",
       "      <td>2016-05-15</td>\n",
       "      <td>4959300000.00</td>\n",
       "      <td>6716500000.00</td>\n",
       "      <td>68.56</td>\n",
       "    </tr>\n",
       "    <tr>\n",
       "      <th>4</th>\n",
       "      <td>East Bay Municipal Utilities District</td>\n",
       "      <td>2016-04-15</td>\n",
       "      <td>4018800000.00</td>\n",
       "      <td>5417500000.00</td>\n",
       "      <td>59.33</td>\n",
       "    </tr>\n",
       "  </tbody>\n",
       "</table>\n",
       "</div>"
      ],
      "text/plain": [
       "                           supplier_name       month  \\\n",
       "0  East Bay Municipal Utilities District  2016-08-15   \n",
       "1  East Bay Municipal Utilities District  2016-07-15   \n",
       "2  East Bay Municipal Utilities District  2016-06-15   \n",
       "3  East Bay Municipal Utilities District  2016-05-15   \n",
       "4  East Bay Municipal Utilities District  2016-04-15   \n",
       "\n",
       "   total_water_production_gallons  total_water_production_gallons_2013  \\\n",
       "0                   6007500000.00                        7172300000.00   \n",
       "1                   6056600000.00                        7452200000.00   \n",
       "2                   5675900000.00                        6927500000.00   \n",
       "3                   4959300000.00                        6716500000.00   \n",
       "4                   4018800000.00                        5417500000.00   \n",
       "\n",
       "   residential_water_usage  \n",
       "0                    84.44  \n",
       "1                    83.73  \n",
       "2                    82.44  \n",
       "3                    68.56  \n",
       "4                    59.33  "
      ]
     },
     "execution_count": 10,
     "metadata": {},
     "output_type": "execute_result"
    }
   ],
   "source": [
    "supplier_table.head()"
   ]
  },
  {
   "cell_type": "markdown",
   "metadata": {},
   "source": [
    "##### Filter the data to only the three summer months in 2015 and 2016 "
   ]
  },
  {
   "cell_type": "code",
   "execution_count": 11,
   "metadata": {},
   "outputs": [],
   "source": [
    "target_months = ['2016-08-15', '2016-07-15', '2016-06-15', '2015-08-15', '2015-07-15', '2015-06-15',]\n",
    "month_table = supplier_table[supplier_table['month'].isin(target_months)]"
   ]
  },
  {
   "cell_type": "code",
   "execution_count": 12,
   "metadata": {},
   "outputs": [
    {
     "data": {
      "text/plain": [
       "2427"
      ]
     },
     "execution_count": 12,
     "metadata": {},
     "output_type": "execute_result"
    }
   ],
   "source": [
    "# Added by Steve to determine how many duplicates\n",
    "len(month_table)"
   ]
  },
  {
   "cell_type": "code",
   "execution_count": 13,
   "metadata": {},
   "outputs": [
    {
     "name": "stderr",
     "output_type": "stream",
     "text": [
      "/opt/conda/lib/python3.7/site-packages/ipykernel_launcher.py:1: SettingWithCopyWarning: \n",
      "A value is trying to be set on a copy of a slice from a DataFrame\n",
      "\n",
      "See the caveats in the documentation: http://pandas.pydata.org/pandas-docs/stable/indexing.html#indexing-view-versus-copy\n",
      "  \"\"\"Entry point for launching an IPython kernel.\n"
     ]
    }
   ],
   "source": [
    "month_table.drop_duplicates(inplace=True)"
   ]
  },
  {
   "cell_type": "code",
   "execution_count": 17,
   "metadata": {},
   "outputs": [
    {
     "data": {
      "text/plain": [
       "'Total records: 10936'"
      ]
     },
     "execution_count": 17,
     "metadata": {},
     "output_type": "execute_result"
    }
   ],
   "source": [
    "\"Total records: {}\".format(len(supplier_table))"
   ]
  },
  {
   "cell_type": "code",
   "execution_count": 18,
   "metadata": {},
   "outputs": [
    {
     "data": {
      "text/plain": [
       "'Month records: 2425'"
      ]
     },
     "execution_count": 18,
     "metadata": {},
     "output_type": "execute_result"
    }
   ],
   "source": [
    "\"Month records: {}\".format(len(month_table))"
   ]
  },
  {
   "cell_type": "markdown",
   "metadata": {},
   "source": [
    "##### Eliminate any suppliers who have fewer or greater than six months of data with those labels "
   ]
  },
  {
   "cell_type": "code",
   "execution_count": 14,
   "metadata": {},
   "outputs": [],
   "source": [
    "supplier_counts = month_table.groupby(\"supplier_name\")['supplier_name'].count().to_frame(\"count\").reset_index()"
   ]
  },
  {
   "cell_type": "code",
   "execution_count": 17,
   "metadata": {},
   "outputs": [
    {
     "data": {
      "text/html": [
       "<div>\n",
       "<style scoped>\n",
       "    .dataframe tbody tr th:only-of-type {\n",
       "        vertical-align: middle;\n",
       "    }\n",
       "\n",
       "    .dataframe tbody tr th {\n",
       "        vertical-align: top;\n",
       "    }\n",
       "\n",
       "    .dataframe thead th {\n",
       "        text-align: right;\n",
       "    }\n",
       "</style>\n",
       "<table border=\"1\" class=\"dataframe\">\n",
       "  <thead>\n",
       "    <tr style=\"text-align: right;\">\n",
       "      <th></th>\n",
       "      <th>supplier_name</th>\n",
       "      <th>count</th>\n",
       "    </tr>\n",
       "  </thead>\n",
       "  <tbody>\n",
       "    <tr>\n",
       "      <th>7</th>\n",
       "      <td>Anderson, City of</td>\n",
       "      <td>5</td>\n",
       "    </tr>\n",
       "    <tr>\n",
       "      <th>34</th>\n",
       "      <td>Calexico  City of</td>\n",
       "      <td>5</td>\n",
       "    </tr>\n",
       "    <tr>\n",
       "      <th>118</th>\n",
       "      <td>Escondido  City of</td>\n",
       "      <td>5</td>\n",
       "    </tr>\n",
       "    <tr>\n",
       "      <th>167</th>\n",
       "      <td>Hi-Desert Water District</td>\n",
       "      <td>5</td>\n",
       "    </tr>\n",
       "    <tr>\n",
       "      <th>195</th>\n",
       "      <td>Lemoore  City of</td>\n",
       "      <td>4</td>\n",
       "    </tr>\n",
       "    <tr>\n",
       "      <th>200</th>\n",
       "      <td>Livingston  City of</td>\n",
       "      <td>5</td>\n",
       "    </tr>\n",
       "    <tr>\n",
       "      <th>210</th>\n",
       "      <td>Lynwood  City of</td>\n",
       "      <td>5</td>\n",
       "    </tr>\n",
       "    <tr>\n",
       "      <th>225</th>\n",
       "      <td>Mission Springs Water District</td>\n",
       "      <td>5</td>\n",
       "    </tr>\n",
       "    <tr>\n",
       "      <th>227</th>\n",
       "      <td>Monrovia  City of</td>\n",
       "      <td>4</td>\n",
       "    </tr>\n",
       "    <tr>\n",
       "      <th>280</th>\n",
       "      <td>Porterville  City of</td>\n",
       "      <td>4</td>\n",
       "    </tr>\n",
       "    <tr>\n",
       "      <th>311</th>\n",
       "      <td>San Bruno  City of</td>\n",
       "      <td>5</td>\n",
       "    </tr>\n",
       "    <tr>\n",
       "      <th>322</th>\n",
       "      <td>San Jose  City of</td>\n",
       "      <td>5</td>\n",
       "    </tr>\n",
       "    <tr>\n",
       "      <th>349</th>\n",
       "      <td>South Feather Water and Power Agency</td>\n",
       "      <td>5</td>\n",
       "    </tr>\n",
       "    <tr>\n",
       "      <th>353</th>\n",
       "      <td>Stockton  City of</td>\n",
       "      <td>5</td>\n",
       "    </tr>\n",
       "    <tr>\n",
       "      <th>360</th>\n",
       "      <td>Susanville  City of</td>\n",
       "      <td>5</td>\n",
       "    </tr>\n",
       "    <tr>\n",
       "      <th>366</th>\n",
       "      <td>Torrance  City of</td>\n",
       "      <td>5</td>\n",
       "    </tr>\n",
       "    <tr>\n",
       "      <th>375</th>\n",
       "      <td>Twentynine Palms Water District</td>\n",
       "      <td>5</td>\n",
       "    </tr>\n",
       "    <tr>\n",
       "      <th>376</th>\n",
       "      <td>Ukiah  City of</td>\n",
       "      <td>4</td>\n",
       "    </tr>\n",
       "    <tr>\n",
       "      <th>385</th>\n",
       "      <td>Valley of the Moon Water District</td>\n",
       "      <td>5</td>\n",
       "    </tr>\n",
       "  </tbody>\n",
       "</table>\n",
       "</div>"
      ],
      "text/plain": [
       "                            supplier_name  count\n",
       "7                       Anderson, City of      5\n",
       "34                      Calexico  City of      5\n",
       "118                    Escondido  City of      5\n",
       "167              Hi-Desert Water District      5\n",
       "195                      Lemoore  City of      4\n",
       "200                   Livingston  City of      5\n",
       "210                      Lynwood  City of      5\n",
       "225        Mission Springs Water District      5\n",
       "227                     Monrovia  City of      4\n",
       "280                  Porterville  City of      4\n",
       "311                    San Bruno  City of      5\n",
       "322                     San Jose  City of      5\n",
       "349  South Feather Water and Power Agency      5\n",
       "353                     Stockton  City of      5\n",
       "360                   Susanville  City of      5\n",
       "366                     Torrance  City of      5\n",
       "375       Twentynine Palms Water District      5\n",
       "376                        Ukiah  City of      4\n",
       "385     Valley of the Moon Water District      5"
      ]
     },
     "execution_count": 17,
     "metadata": {},
     "output_type": "execute_result"
    }
   ],
   "source": [
    "supplier_counts[supplier_counts['count'] <> 6]"
   ]
  },
  {
   "cell_type": "code",
   "execution_count": 15,
   "metadata": {},
   "outputs": [],
   "source": [
    "incomplete_month_table = supplier_counts[supplier_counts['count'] <> 6]"
   ]
  },
  {
   "cell_type": "code",
   "execution_count": 16,
   "metadata": {},
   "outputs": [
    {
     "data": {
      "text/html": [
       "<div>\n",
       "<style scoped>\n",
       "    .dataframe tbody tr th:only-of-type {\n",
       "        vertical-align: middle;\n",
       "    }\n",
       "\n",
       "    .dataframe tbody tr th {\n",
       "        vertical-align: top;\n",
       "    }\n",
       "\n",
       "    .dataframe thead th {\n",
       "        text-align: right;\n",
       "    }\n",
       "</style>\n",
       "<table border=\"1\" class=\"dataframe\">\n",
       "  <thead>\n",
       "    <tr style=\"text-align: right;\">\n",
       "      <th></th>\n",
       "      <th>supplier_name</th>\n",
       "      <th>count</th>\n",
       "    </tr>\n",
       "  </thead>\n",
       "  <tbody>\n",
       "    <tr>\n",
       "      <th>7</th>\n",
       "      <td>Anderson, City of</td>\n",
       "      <td>5</td>\n",
       "    </tr>\n",
       "    <tr>\n",
       "      <th>34</th>\n",
       "      <td>Calexico  City of</td>\n",
       "      <td>5</td>\n",
       "    </tr>\n",
       "    <tr>\n",
       "      <th>118</th>\n",
       "      <td>Escondido  City of</td>\n",
       "      <td>5</td>\n",
       "    </tr>\n",
       "    <tr>\n",
       "      <th>167</th>\n",
       "      <td>Hi-Desert Water District</td>\n",
       "      <td>5</td>\n",
       "    </tr>\n",
       "    <tr>\n",
       "      <th>195</th>\n",
       "      <td>Lemoore  City of</td>\n",
       "      <td>4</td>\n",
       "    </tr>\n",
       "    <tr>\n",
       "      <th>200</th>\n",
       "      <td>Livingston  City of</td>\n",
       "      <td>5</td>\n",
       "    </tr>\n",
       "    <tr>\n",
       "      <th>210</th>\n",
       "      <td>Lynwood  City of</td>\n",
       "      <td>5</td>\n",
       "    </tr>\n",
       "    <tr>\n",
       "      <th>225</th>\n",
       "      <td>Mission Springs Water District</td>\n",
       "      <td>5</td>\n",
       "    </tr>\n",
       "    <tr>\n",
       "      <th>227</th>\n",
       "      <td>Monrovia  City of</td>\n",
       "      <td>4</td>\n",
       "    </tr>\n",
       "    <tr>\n",
       "      <th>280</th>\n",
       "      <td>Porterville  City of</td>\n",
       "      <td>4</td>\n",
       "    </tr>\n",
       "    <tr>\n",
       "      <th>311</th>\n",
       "      <td>San Bruno  City of</td>\n",
       "      <td>5</td>\n",
       "    </tr>\n",
       "    <tr>\n",
       "      <th>322</th>\n",
       "      <td>San Jose  City of</td>\n",
       "      <td>5</td>\n",
       "    </tr>\n",
       "    <tr>\n",
       "      <th>349</th>\n",
       "      <td>South Feather Water and Power Agency</td>\n",
       "      <td>5</td>\n",
       "    </tr>\n",
       "    <tr>\n",
       "      <th>353</th>\n",
       "      <td>Stockton  City of</td>\n",
       "      <td>5</td>\n",
       "    </tr>\n",
       "    <tr>\n",
       "      <th>360</th>\n",
       "      <td>Susanville  City of</td>\n",
       "      <td>5</td>\n",
       "    </tr>\n",
       "    <tr>\n",
       "      <th>366</th>\n",
       "      <td>Torrance  City of</td>\n",
       "      <td>5</td>\n",
       "    </tr>\n",
       "    <tr>\n",
       "      <th>375</th>\n",
       "      <td>Twentynine Palms Water District</td>\n",
       "      <td>5</td>\n",
       "    </tr>\n",
       "    <tr>\n",
       "      <th>376</th>\n",
       "      <td>Ukiah  City of</td>\n",
       "      <td>4</td>\n",
       "    </tr>\n",
       "    <tr>\n",
       "      <th>385</th>\n",
       "      <td>Valley of the Moon Water District</td>\n",
       "      <td>5</td>\n",
       "    </tr>\n",
       "  </tbody>\n",
       "</table>\n",
       "</div>"
      ],
      "text/plain": [
       "                            supplier_name  count\n",
       "7                       Anderson, City of      5\n",
       "34                      Calexico  City of      5\n",
       "118                    Escondido  City of      5\n",
       "167              Hi-Desert Water District      5\n",
       "195                      Lemoore  City of      4\n",
       "200                   Livingston  City of      5\n",
       "210                      Lynwood  City of      5\n",
       "225        Mission Springs Water District      5\n",
       "227                     Monrovia  City of      4\n",
       "280                  Porterville  City of      4\n",
       "311                    San Bruno  City of      5\n",
       "322                     San Jose  City of      5\n",
       "349  South Feather Water and Power Agency      5\n",
       "353                     Stockton  City of      5\n",
       "360                   Susanville  City of      5\n",
       "366                     Torrance  City of      5\n",
       "375       Twentynine Palms Water District      5\n",
       "376                        Ukiah  City of      4\n",
       "385     Valley of the Moon Water District      5"
      ]
     },
     "execution_count": 16,
     "metadata": {},
     "output_type": "execute_result"
    }
   ],
   "source": [
    "incomplete_month_table"
   ]
  },
  {
   "cell_type": "code",
   "execution_count": 18,
   "metadata": {},
   "outputs": [],
   "source": [
    "complete_month_table = month_table[~month_table['supplier_name'].isin(incomplete_month_table['supplier_name'])]"
   ]
  },
  {
   "cell_type": "code",
   "execution_count": 19,
   "metadata": {},
   "outputs": [
    {
     "data": {
      "text/plain": [
       "'Complete month records: 2334'"
      ]
     },
     "execution_count": 19,
     "metadata": {},
     "output_type": "execute_result"
    }
   ],
   "source": [
    "\"Complete month records: {}\".format(len(complete_month_table))"
   ]
  },
  {
   "cell_type": "markdown",
   "metadata": {},
   "source": [
    "##### Group and sum the total water production for each summer "
   ]
  },
  {
   "cell_type": "code",
   "execution_count": 20,
   "metadata": {},
   "outputs": [],
   "source": [
    "summer_16_table = complete_month_table[complete_month_table['month'].isin(['2016-08-15', '2016-07-15', '2016-06-15',])]"
   ]
  },
  {
   "cell_type": "code",
   "execution_count": 21,
   "metadata": {},
   "outputs": [],
   "source": [
    "summer_16_totals = summer_16_table.groupby(\"supplier_name\")['total_water_production_gallons'].sum().to_frame(\"total_water_production_16\").reset_index()"
   ]
  },
  {
   "cell_type": "code",
   "execution_count": 22,
   "metadata": {},
   "outputs": [
    {
     "data": {
      "text/html": [
       "<div>\n",
       "<style scoped>\n",
       "    .dataframe tbody tr th:only-of-type {\n",
       "        vertical-align: middle;\n",
       "    }\n",
       "\n",
       "    .dataframe tbody tr th {\n",
       "        vertical-align: top;\n",
       "    }\n",
       "\n",
       "    .dataframe thead th {\n",
       "        text-align: right;\n",
       "    }\n",
       "</style>\n",
       "<table border=\"1\" class=\"dataframe\">\n",
       "  <thead>\n",
       "    <tr style=\"text-align: right;\">\n",
       "      <th></th>\n",
       "      <th>supplier_name</th>\n",
       "      <th>total_water_production_16</th>\n",
       "    </tr>\n",
       "  </thead>\n",
       "  <tbody>\n",
       "    <tr>\n",
       "      <th>0</th>\n",
       "      <td>Adelanto City of</td>\n",
       "      <td>434024228.54</td>\n",
       "    </tr>\n",
       "    <tr>\n",
       "      <th>1</th>\n",
       "      <td>Alameda County Water District</td>\n",
       "      <td>3937000000.00</td>\n",
       "    </tr>\n",
       "    <tr>\n",
       "      <th>2</th>\n",
       "      <td>Alco Water Service</td>\n",
       "      <td>344299000.00</td>\n",
       "    </tr>\n",
       "    <tr>\n",
       "      <th>3</th>\n",
       "      <td>Alhambra  City of</td>\n",
       "      <td>775637185.75</td>\n",
       "    </tr>\n",
       "    <tr>\n",
       "      <th>4</th>\n",
       "      <td>Amador Water Agency</td>\n",
       "      <td>350910000.00</td>\n",
       "    </tr>\n",
       "  </tbody>\n",
       "</table>\n",
       "</div>"
      ],
      "text/plain": [
       "                   supplier_name  total_water_production_16\n",
       "0               Adelanto City of               434024228.54\n",
       "1  Alameda County Water District              3937000000.00\n",
       "2             Alco Water Service               344299000.00\n",
       "3              Alhambra  City of               775637185.75\n",
       "4            Amador Water Agency               350910000.00"
      ]
     },
     "execution_count": 22,
     "metadata": {},
     "output_type": "execute_result"
    }
   ],
   "source": [
    "summer_16_totals.head(5)"
   ]
  },
  {
   "cell_type": "code",
   "execution_count": 36,
   "metadata": {},
   "outputs": [
    {
     "data": {
      "text/plain": [
       "'Summer 16 records: 389'"
      ]
     },
     "execution_count": 36,
     "metadata": {},
     "output_type": "execute_result"
    }
   ],
   "source": [
    "\"Summer 16 records: {}\".format(len(summer_16_totals))"
   ]
  },
  {
   "cell_type": "code",
   "execution_count": 25,
   "metadata": {},
   "outputs": [],
   "source": [
    "summer_15_table = complete_month_table[complete_month_table['month'].isin(['2015-08-15', '2015-07-15', '2015-06-15',])]"
   ]
  },
  {
   "cell_type": "code",
   "execution_count": 26,
   "metadata": {},
   "outputs": [],
   "source": [
    "summer_15_totals = summer_15_table.groupby(\"supplier_name\")['total_water_production_gallons'].sum().to_frame(\"total_water_production_15\").reset_index()"
   ]
  },
  {
   "cell_type": "code",
   "execution_count": 27,
   "metadata": {},
   "outputs": [
    {
     "data": {
      "text/html": [
       "<div>\n",
       "<style scoped>\n",
       "    .dataframe tbody tr th:only-of-type {\n",
       "        vertical-align: middle;\n",
       "    }\n",
       "\n",
       "    .dataframe tbody tr th {\n",
       "        vertical-align: top;\n",
       "    }\n",
       "\n",
       "    .dataframe thead th {\n",
       "        text-align: right;\n",
       "    }\n",
       "</style>\n",
       "<table border=\"1\" class=\"dataframe\">\n",
       "  <thead>\n",
       "    <tr style=\"text-align: right;\">\n",
       "      <th></th>\n",
       "      <th>supplier_name</th>\n",
       "      <th>total_water_production_15</th>\n",
       "    </tr>\n",
       "  </thead>\n",
       "  <tbody>\n",
       "    <tr>\n",
       "      <th>0</th>\n",
       "      <td>Adelanto City of</td>\n",
       "      <td>387316100.00</td>\n",
       "    </tr>\n",
       "    <tr>\n",
       "      <th>1</th>\n",
       "      <td>Alameda County Water District</td>\n",
       "      <td>3374000000.00</td>\n",
       "    </tr>\n",
       "    <tr>\n",
       "      <th>2</th>\n",
       "      <td>Alco Water Service</td>\n",
       "      <td>350899000.00</td>\n",
       "    </tr>\n",
       "    <tr>\n",
       "      <th>3</th>\n",
       "      <td>Alhambra  City of</td>\n",
       "      <td>777996350.08</td>\n",
       "    </tr>\n",
       "    <tr>\n",
       "      <th>4</th>\n",
       "      <td>Amador Water Agency</td>\n",
       "      <td>287480000.00</td>\n",
       "    </tr>\n",
       "  </tbody>\n",
       "</table>\n",
       "</div>"
      ],
      "text/plain": [
       "                   supplier_name  total_water_production_15\n",
       "0               Adelanto City of               387316100.00\n",
       "1  Alameda County Water District              3374000000.00\n",
       "2             Alco Water Service               350899000.00\n",
       "3              Alhambra  City of               777996350.08\n",
       "4            Amador Water Agency               287480000.00"
      ]
     },
     "execution_count": 27,
     "metadata": {},
     "output_type": "execute_result"
    }
   ],
   "source": [
    "summer_15_totals.head(5)"
   ]
  },
  {
   "cell_type": "code",
   "execution_count": 28,
   "metadata": {},
   "outputs": [
    {
     "data": {
      "text/plain": [
       "'Summer 15 records: 389'"
      ]
     },
     "execution_count": 28,
     "metadata": {},
     "output_type": "execute_result"
    }
   ],
   "source": [
    "\"Summer 15 records: {}\".format(len(summer_15_totals))"
   ]
  },
  {
   "cell_type": "code",
   "execution_count": 29,
   "metadata": {},
   "outputs": [],
   "source": [
    "summer_13_totals = summer_16_table.groupby(\"supplier_name\")['total_water_production_gallons_2013'].sum().to_frame(\"total_water_production_13\").reset_index()"
   ]
  },
  {
   "cell_type": "code",
   "execution_count": 30,
   "metadata": {
    "scrolled": true
   },
   "outputs": [
    {
     "data": {
      "text/html": [
       "<div>\n",
       "<style scoped>\n",
       "    .dataframe tbody tr th:only-of-type {\n",
       "        vertical-align: middle;\n",
       "    }\n",
       "\n",
       "    .dataframe tbody tr th {\n",
       "        vertical-align: top;\n",
       "    }\n",
       "\n",
       "    .dataframe thead th {\n",
       "        text-align: right;\n",
       "    }\n",
       "</style>\n",
       "<table border=\"1\" class=\"dataframe\">\n",
       "  <thead>\n",
       "    <tr style=\"text-align: right;\">\n",
       "      <th></th>\n",
       "      <th>supplier_name</th>\n",
       "      <th>total_water_production_13</th>\n",
       "    </tr>\n",
       "  </thead>\n",
       "  <tbody>\n",
       "    <tr>\n",
       "      <th>0</th>\n",
       "      <td>Adelanto City of</td>\n",
       "      <td>393342171.40</td>\n",
       "    </tr>\n",
       "    <tr>\n",
       "      <th>1</th>\n",
       "      <td>Alameda County Water District</td>\n",
       "      <td>5273000000.00</td>\n",
       "    </tr>\n",
       "    <tr>\n",
       "      <th>2</th>\n",
       "      <td>Alco Water Service</td>\n",
       "      <td>447983000.00</td>\n",
       "    </tr>\n",
       "    <tr>\n",
       "      <th>3</th>\n",
       "      <td>Alhambra  City of</td>\n",
       "      <td>1060724599.23</td>\n",
       "    </tr>\n",
       "    <tr>\n",
       "      <th>4</th>\n",
       "      <td>Amador Water Agency</td>\n",
       "      <td>431220000.00</td>\n",
       "    </tr>\n",
       "  </tbody>\n",
       "</table>\n",
       "</div>"
      ],
      "text/plain": [
       "                   supplier_name  total_water_production_13\n",
       "0               Adelanto City of               393342171.40\n",
       "1  Alameda County Water District              5273000000.00\n",
       "2             Alco Water Service               447983000.00\n",
       "3              Alhambra  City of              1060724599.23\n",
       "4            Amador Water Agency               431220000.00"
      ]
     },
     "execution_count": 30,
     "metadata": {},
     "output_type": "execute_result"
    }
   ],
   "source": [
    "summer_13_totals.head()"
   ]
  },
  {
   "cell_type": "code",
   "execution_count": 31,
   "metadata": {},
   "outputs": [
    {
     "data": {
      "text/plain": [
       "'Summer 13 records: 389'"
      ]
     },
     "execution_count": 31,
     "metadata": {},
     "output_type": "execute_result"
    }
   ],
   "source": [
    "\"Summer 13 records: {}\".format(len(summer_13_totals))"
   ]
  },
  {
   "cell_type": "markdown",
   "metadata": {},
   "source": [
    "##### Join those summer production totals into a combined table"
   ]
  },
  {
   "cell_type": "code",
   "execution_count": 32,
   "metadata": {},
   "outputs": [],
   "source": [
    "summer_table = summer_16_totals.merge(summer_15_totals, on=\"supplier_name\")\n",
    "summer_table = summer_table.merge(summer_13_totals, on=\"supplier_name\")"
   ]
  },
  {
   "cell_type": "code",
   "execution_count": 33,
   "metadata": {},
   "outputs": [
    {
     "data": {
      "text/plain": [
       "'Total summer records: 389'"
      ]
     },
     "execution_count": 33,
     "metadata": {},
     "output_type": "execute_result"
    }
   ],
   "source": [
    "\"Total summer records: {}\".format(len(summer_table))"
   ]
  },
  {
   "cell_type": "code",
   "execution_count": 34,
   "metadata": {},
   "outputs": [
    {
     "data": {
      "text/html": [
       "<div>\n",
       "<style scoped>\n",
       "    .dataframe tbody tr th:only-of-type {\n",
       "        vertical-align: middle;\n",
       "    }\n",
       "\n",
       "    .dataframe tbody tr th {\n",
       "        vertical-align: top;\n",
       "    }\n",
       "\n",
       "    .dataframe thead th {\n",
       "        text-align: right;\n",
       "    }\n",
       "</style>\n",
       "<table border=\"1\" class=\"dataframe\">\n",
       "  <thead>\n",
       "    <tr style=\"text-align: right;\">\n",
       "      <th></th>\n",
       "      <th>supplier_name</th>\n",
       "      <th>total_water_production_16</th>\n",
       "      <th>total_water_production_15</th>\n",
       "      <th>total_water_production_13</th>\n",
       "    </tr>\n",
       "  </thead>\n",
       "  <tbody>\n",
       "    <tr>\n",
       "      <th>0</th>\n",
       "      <td>Adelanto City of</td>\n",
       "      <td>434024228.54</td>\n",
       "      <td>387316100.00</td>\n",
       "      <td>393342171.40</td>\n",
       "    </tr>\n",
       "    <tr>\n",
       "      <th>1</th>\n",
       "      <td>Alameda County Water District</td>\n",
       "      <td>3937000000.00</td>\n",
       "      <td>3374000000.00</td>\n",
       "      <td>5273000000.00</td>\n",
       "    </tr>\n",
       "    <tr>\n",
       "      <th>2</th>\n",
       "      <td>Alco Water Service</td>\n",
       "      <td>344299000.00</td>\n",
       "      <td>350899000.00</td>\n",
       "      <td>447983000.00</td>\n",
       "    </tr>\n",
       "    <tr>\n",
       "      <th>3</th>\n",
       "      <td>Alhambra  City of</td>\n",
       "      <td>775637185.75</td>\n",
       "      <td>777996350.08</td>\n",
       "      <td>1060724599.23</td>\n",
       "    </tr>\n",
       "    <tr>\n",
       "      <th>4</th>\n",
       "      <td>Amador Water Agency</td>\n",
       "      <td>350910000.00</td>\n",
       "      <td>287480000.00</td>\n",
       "      <td>431220000.00</td>\n",
       "    </tr>\n",
       "  </tbody>\n",
       "</table>\n",
       "</div>"
      ],
      "text/plain": [
       "                   supplier_name  total_water_production_16  \\\n",
       "0               Adelanto City of               434024228.54   \n",
       "1  Alameda County Water District              3937000000.00   \n",
       "2             Alco Water Service               344299000.00   \n",
       "3              Alhambra  City of               775637185.75   \n",
       "4            Amador Water Agency               350910000.00   \n",
       "\n",
       "   total_water_production_15  total_water_production_13  \n",
       "0               387316100.00               393342171.40  \n",
       "1              3374000000.00              5273000000.00  \n",
       "2               350899000.00               447983000.00  \n",
       "3               777996350.08              1060724599.23  \n",
       "4               287480000.00               431220000.00  "
      ]
     },
     "execution_count": 34,
     "metadata": {},
     "output_type": "execute_result"
    }
   ],
   "source": [
    "summer_table.head(5)"
   ]
  },
  {
   "cell_type": "markdown",
   "metadata": {},
   "source": [
    "##### Calculate the percentage change of summers 15 and 16 versus the baseline of summer 2013"
   ]
  },
  {
   "cell_type": "code",
   "execution_count": 35,
   "metadata": {},
   "outputs": [],
   "source": [
    "summer_table['savings_16'] = summer_table.apply(\n",
    "    lambda x: (x['total_water_production_16']-x['total_water_production_13'])/float(x['total_water_production_13']),\n",
    "    axis=1\n",
    ")"
   ]
  },
  {
   "cell_type": "code",
   "execution_count": 36,
   "metadata": {},
   "outputs": [],
   "source": [
    "summer_table['savings_15'] = summer_table.apply(\n",
    "    lambda x: (x['total_water_production_15']-x['total_water_production_13'])/float(x['total_water_production_13']),\n",
    "    axis=1\n",
    ")"
   ]
  },
  {
   "cell_type": "code",
   "execution_count": 37,
   "metadata": {},
   "outputs": [
    {
     "data": {
      "text/html": [
       "<div>\n",
       "<style scoped>\n",
       "    .dataframe tbody tr th:only-of-type {\n",
       "        vertical-align: middle;\n",
       "    }\n",
       "\n",
       "    .dataframe tbody tr th {\n",
       "        vertical-align: top;\n",
       "    }\n",
       "\n",
       "    .dataframe thead th {\n",
       "        text-align: right;\n",
       "    }\n",
       "</style>\n",
       "<table border=\"1\" class=\"dataframe\">\n",
       "  <thead>\n",
       "    <tr style=\"text-align: right;\">\n",
       "      <th></th>\n",
       "      <th>supplier_name</th>\n",
       "      <th>total_water_production_16</th>\n",
       "      <th>total_water_production_15</th>\n",
       "      <th>total_water_production_13</th>\n",
       "      <th>savings_16</th>\n",
       "      <th>savings_15</th>\n",
       "    </tr>\n",
       "  </thead>\n",
       "  <tbody>\n",
       "    <tr>\n",
       "      <th>0</th>\n",
       "      <td>Adelanto City of</td>\n",
       "      <td>434024228.54</td>\n",
       "      <td>387316100.00</td>\n",
       "      <td>393342171.40</td>\n",
       "      <td>0.10</td>\n",
       "      <td>-0.02</td>\n",
       "    </tr>\n",
       "    <tr>\n",
       "      <th>236</th>\n",
       "      <td>North Marin Water District</td>\n",
       "      <td>1134200000.00</td>\n",
       "      <td>715000000.00</td>\n",
       "      <td>1102000000.00</td>\n",
       "      <td>0.03</td>\n",
       "      <td>-0.35</td>\n",
       "    </tr>\n",
       "    <tr>\n",
       "      <th>166</th>\n",
       "      <td>Humboldt Bay Municipal Water District</td>\n",
       "      <td>50810000.00</td>\n",
       "      <td>53060000.00</td>\n",
       "      <td>49765000.00</td>\n",
       "      <td>0.02</td>\n",
       "      <td>0.07</td>\n",
       "    </tr>\n",
       "    <tr>\n",
       "      <th>10</th>\n",
       "      <td>Arcata  City of</td>\n",
       "      <td>180277000.00</td>\n",
       "      <td>177507000.00</td>\n",
       "      <td>178787000.00</td>\n",
       "      <td>0.01</td>\n",
       "      <td>-0.01</td>\n",
       "    </tr>\n",
       "    <tr>\n",
       "      <th>124</th>\n",
       "      <td>Fortuna  City of</td>\n",
       "      <td>125000000.00</td>\n",
       "      <td>119100000.00</td>\n",
       "      <td>127100000.00</td>\n",
       "      <td>-0.02</td>\n",
       "      <td>-0.06</td>\n",
       "    </tr>\n",
       "  </tbody>\n",
       "</table>\n",
       "</div>"
      ],
      "text/plain": [
       "                             supplier_name  total_water_production_16  \\\n",
       "0                         Adelanto City of               434024228.54   \n",
       "236             North Marin Water District              1134200000.00   \n",
       "166  Humboldt Bay Municipal Water District                50810000.00   \n",
       "10                         Arcata  City of               180277000.00   \n",
       "124                       Fortuna  City of               125000000.00   \n",
       "\n",
       "     total_water_production_15  total_water_production_13  savings_16  \\\n",
       "0                 387316100.00               393342171.40        0.10   \n",
       "236               715000000.00              1102000000.00        0.03   \n",
       "166                53060000.00                49765000.00        0.02   \n",
       "10                177507000.00               178787000.00        0.01   \n",
       "124               119100000.00               127100000.00       -0.02   \n",
       "\n",
       "     savings_15  \n",
       "0         -0.02  \n",
       "236       -0.35  \n",
       "166        0.07  \n",
       "10        -0.01  \n",
       "124       -0.06  "
      ]
     },
     "execution_count": 37,
     "metadata": {},
     "output_type": "execute_result"
    }
   ],
   "source": [
    "summer_table.sort_values('savings_16', ascending=False).head()"
   ]
  },
  {
   "cell_type": "markdown",
   "metadata": {},
   "source": [
    "##### Calculate the difference between in that statistic between 15 and 16"
   ]
  },
  {
   "cell_type": "code",
   "execution_count": 36,
   "metadata": {},
   "outputs": [],
   "source": [
    "summer_table['savings_change'] = summer_table.apply(\n",
    "    lambda x: x['savings_16']-x['savings_15'],\n",
    "    axis=1\n",
    ")"
   ]
  },
  {
   "cell_type": "code",
   "execution_count": 37,
   "metadata": {},
   "outputs": [
    {
     "data": {
      "text/html": [
       "<div>\n",
       "<table border=\"1\" class=\"dataframe\">\n",
       "  <thead>\n",
       "    <tr style=\"text-align: right;\">\n",
       "      <th></th>\n",
       "      <th>supplier_name</th>\n",
       "      <th>total_water_production_16</th>\n",
       "      <th>total_water_production_15</th>\n",
       "      <th>total_water_production_13</th>\n",
       "      <th>savings_16</th>\n",
       "      <th>savings_15</th>\n",
       "      <th>savings_change</th>\n",
       "    </tr>\n",
       "  </thead>\n",
       "  <tbody>\n",
       "    <tr>\n",
       "      <th>0</th>\n",
       "      <td>Adelanto City of</td>\n",
       "      <td>434024228.54</td>\n",
       "      <td>387316100.00</td>\n",
       "      <td>393342171.40</td>\n",
       "      <td>0.10</td>\n",
       "      <td>-0.02</td>\n",
       "      <td>0.12</td>\n",
       "    </tr>\n",
       "    <tr>\n",
       "      <th>1</th>\n",
       "      <td>Alameda County Water District</td>\n",
       "      <td>3937000000.00</td>\n",
       "      <td>3374000000.00</td>\n",
       "      <td>5273000000.00</td>\n",
       "      <td>-0.25</td>\n",
       "      <td>-0.36</td>\n",
       "      <td>0.11</td>\n",
       "    </tr>\n",
       "    <tr>\n",
       "      <th>2</th>\n",
       "      <td>Alco Water Service</td>\n",
       "      <td>344299000.00</td>\n",
       "      <td>350899000.00</td>\n",
       "      <td>447983000.00</td>\n",
       "      <td>-0.23</td>\n",
       "      <td>-0.22</td>\n",
       "      <td>-0.01</td>\n",
       "    </tr>\n",
       "    <tr>\n",
       "      <th>3</th>\n",
       "      <td>Alhambra  City of</td>\n",
       "      <td>775637185.75</td>\n",
       "      <td>777996350.08</td>\n",
       "      <td>1060724599.23</td>\n",
       "      <td>-0.27</td>\n",
       "      <td>-0.27</td>\n",
       "      <td>-0.00</td>\n",
       "    </tr>\n",
       "    <tr>\n",
       "      <th>4</th>\n",
       "      <td>Amador Water Agency</td>\n",
       "      <td>350910000.00</td>\n",
       "      <td>287480000.00</td>\n",
       "      <td>431220000.00</td>\n",
       "      <td>-0.19</td>\n",
       "      <td>-0.33</td>\n",
       "      <td>0.15</td>\n",
       "    </tr>\n",
       "  </tbody>\n",
       "</table>\n",
       "</div>"
      ],
      "text/plain": [
       "                   supplier_name  total_water_production_16  \\\n",
       "0               Adelanto City of               434024228.54   \n",
       "1  Alameda County Water District              3937000000.00   \n",
       "2             Alco Water Service               344299000.00   \n",
       "3              Alhambra  City of               775637185.75   \n",
       "4            Amador Water Agency               350910000.00   \n",
       "\n",
       "   total_water_production_15  total_water_production_13  savings_16  \\\n",
       "0               387316100.00               393342171.40        0.10   \n",
       "1              3374000000.00              5273000000.00       -0.25   \n",
       "2               350899000.00               447983000.00       -0.23   \n",
       "3               777996350.08              1060724599.23       -0.27   \n",
       "4               287480000.00               431220000.00       -0.19   \n",
       "\n",
       "   savings_15  savings_change  \n",
       "0       -0.02            0.12  \n",
       "1       -0.36            0.11  \n",
       "2       -0.22           -0.01  \n",
       "3       -0.27           -0.00  \n",
       "4       -0.33            0.15  "
      ]
     },
     "execution_count": 37,
     "metadata": {},
     "output_type": "execute_result"
    }
   ],
   "source": [
    "summer_table.head(5)"
   ]
  },
  {
   "cell_type": "markdown",
   "metadata": {},
   "source": [
    "##### Rank the cities that have regressed the most towards their 2013 baseline"
   ]
  },
  {
   "cell_type": "code",
   "execution_count": 38,
   "metadata": {},
   "outputs": [
    {
     "data": {
      "text/html": [
       "<div>\n",
       "<table border=\"1\" class=\"dataframe\">\n",
       "  <thead>\n",
       "    <tr style=\"text-align: right;\">\n",
       "      <th></th>\n",
       "      <th>supplier_name</th>\n",
       "      <th>total_water_production_16</th>\n",
       "      <th>total_water_production_15</th>\n",
       "      <th>total_water_production_13</th>\n",
       "      <th>savings_16</th>\n",
       "      <th>savings_15</th>\n",
       "      <th>savings_change</th>\n",
       "    </tr>\n",
       "  </thead>\n",
       "  <tbody>\n",
       "    <tr>\n",
       "      <th>236</th>\n",
       "      <td>North Marin Water District</td>\n",
       "      <td>1134200000.00</td>\n",
       "      <td>715000000.00</td>\n",
       "      <td>1102000000.00</td>\n",
       "      <td>0.03</td>\n",
       "      <td>-0.35</td>\n",
       "      <td>0.38</td>\n",
       "    </tr>\n",
       "    <tr>\n",
       "      <th>313</th>\n",
       "      <td>San Juan Water District</td>\n",
       "      <td>1783309914.14</td>\n",
       "      <td>1204845426.88</td>\n",
       "      <td>2045265134.82</td>\n",
       "      <td>-0.13</td>\n",
       "      <td>-0.41</td>\n",
       "      <td>0.28</td>\n",
       "    </tr>\n",
       "    <tr>\n",
       "      <th>314</th>\n",
       "      <td>San Lorenzo Valley Water District</td>\n",
       "      <td>206498200.00</td>\n",
       "      <td>138808800.00</td>\n",
       "      <td>243345319.00</td>\n",
       "      <td>-0.15</td>\n",
       "      <td>-0.43</td>\n",
       "      <td>0.28</td>\n",
       "    </tr>\n",
       "    <tr>\n",
       "      <th>123</th>\n",
       "      <td>Folsom  City of</td>\n",
       "      <td>2425963874.01</td>\n",
       "      <td>1835195236.86</td>\n",
       "      <td>2725421335.43</td>\n",
       "      <td>-0.11</td>\n",
       "      <td>-0.33</td>\n",
       "      <td>0.22</td>\n",
       "    </tr>\n",
       "    <tr>\n",
       "      <th>321</th>\n",
       "      <td>Santa Fe Irrigation District</td>\n",
       "      <td>1035523249.86</td>\n",
       "      <td>763209212.32</td>\n",
       "      <td>1257134805.37</td>\n",
       "      <td>-0.18</td>\n",
       "      <td>-0.39</td>\n",
       "      <td>0.22</td>\n",
       "    </tr>\n",
       "  </tbody>\n",
       "</table>\n",
       "</div>"
      ],
      "text/plain": [
       "                         supplier_name  total_water_production_16  \\\n",
       "236         North Marin Water District              1134200000.00   \n",
       "313            San Juan Water District              1783309914.14   \n",
       "314  San Lorenzo Valley Water District               206498200.00   \n",
       "123                    Folsom  City of              2425963874.01   \n",
       "321       Santa Fe Irrigation District              1035523249.86   \n",
       "\n",
       "     total_water_production_15  total_water_production_13  savings_16  \\\n",
       "236               715000000.00              1102000000.00        0.03   \n",
       "313              1204845426.88              2045265134.82       -0.13   \n",
       "314               138808800.00               243345319.00       -0.15   \n",
       "123              1835195236.86              2725421335.43       -0.11   \n",
       "321               763209212.32              1257134805.37       -0.18   \n",
       "\n",
       "     savings_15  savings_change  \n",
       "236       -0.35            0.38  \n",
       "313       -0.41            0.28  \n",
       "314       -0.43            0.28  \n",
       "123       -0.33            0.22  \n",
       "321       -0.39            0.22  "
      ]
     },
     "execution_count": 38,
     "metadata": {},
     "output_type": "execute_result"
    }
   ],
   "source": [
    "summer_table.sort_values(\"savings_change\", ascending=False).head()"
   ]
  },
  {
   "cell_type": "markdown",
   "metadata": {},
   "source": [
    "##### Calculate the average monthly water usage per person (R-GPCD) in each district for the summer of 2016"
   ]
  },
  {
   "cell_type": "code",
   "execution_count": 39,
   "metadata": {},
   "outputs": [],
   "source": [
    "summer_16_means = summer_16_table.groupby('supplier_name')['residential_water_usage'].mean().to_frame(\"residential_water_usage_mean_16\").reset_index()"
   ]
  },
  {
   "cell_type": "code",
   "execution_count": 40,
   "metadata": {},
   "outputs": [
    {
     "data": {
      "text/html": [
       "<div>\n",
       "<table border=\"1\" class=\"dataframe\">\n",
       "  <thead>\n",
       "    <tr style=\"text-align: right;\">\n",
       "      <th></th>\n",
       "      <th>supplier_name</th>\n",
       "      <th>residential_water_usage_mean_16</th>\n",
       "    </tr>\n",
       "  </thead>\n",
       "  <tbody>\n",
       "    <tr>\n",
       "      <th>0</th>\n",
       "      <td>Adelanto City of</td>\n",
       "      <td>117.48</td>\n",
       "    </tr>\n",
       "    <tr>\n",
       "      <th>1</th>\n",
       "      <td>Alameda County Water District</td>\n",
       "      <td>84.23</td>\n",
       "    </tr>\n",
       "    <tr>\n",
       "      <th>2</th>\n",
       "      <td>Alco Water Service</td>\n",
       "      <td>103.25</td>\n",
       "    </tr>\n",
       "    <tr>\n",
       "      <th>3</th>\n",
       "      <td>Alhambra  City of</td>\n",
       "      <td>89.18</td>\n",
       "    </tr>\n",
       "    <tr>\n",
       "      <th>4</th>\n",
       "      <td>Amador Water Agency</td>\n",
       "      <td>102.61</td>\n",
       "    </tr>\n",
       "  </tbody>\n",
       "</table>\n",
       "</div>"
      ],
      "text/plain": [
       "                   supplier_name  residential_water_usage_mean_16\n",
       "0               Adelanto City of                           117.48\n",
       "1  Alameda County Water District                            84.23\n",
       "2             Alco Water Service                           103.25\n",
       "3              Alhambra  City of                            89.18\n",
       "4            Amador Water Agency                           102.61"
      ]
     },
     "execution_count": 40,
     "metadata": {},
     "output_type": "execute_result"
    }
   ],
   "source": [
    "summer_16_means.head(5)"
   ]
  },
  {
   "cell_type": "markdown",
   "metadata": {},
   "source": [
    "##### Join those water usage average to our combined table"
   ]
  },
  {
   "cell_type": "code",
   "execution_count": 41,
   "metadata": {
    "collapsed": true
   },
   "outputs": [],
   "source": [
    "summer_table = summer_table.merge(summer_16_means, on=\"supplier_name\")"
   ]
  },
  {
   "cell_type": "code",
   "execution_count": 42,
   "metadata": {},
   "outputs": [
    {
     "data": {
      "text/html": [
       "<div>\n",
       "<table border=\"1\" class=\"dataframe\">\n",
       "  <thead>\n",
       "    <tr style=\"text-align: right;\">\n",
       "      <th></th>\n",
       "      <th>supplier_name</th>\n",
       "      <th>total_water_production_16</th>\n",
       "      <th>total_water_production_15</th>\n",
       "      <th>total_water_production_13</th>\n",
       "      <th>savings_16</th>\n",
       "      <th>savings_15</th>\n",
       "      <th>savings_change</th>\n",
       "      <th>residential_water_usage_mean_16</th>\n",
       "    </tr>\n",
       "  </thead>\n",
       "  <tbody>\n",
       "    <tr>\n",
       "      <th>0</th>\n",
       "      <td>Adelanto City of</td>\n",
       "      <td>434024228.54</td>\n",
       "      <td>387316100.00</td>\n",
       "      <td>393342171.40</td>\n",
       "      <td>0.10</td>\n",
       "      <td>-0.02</td>\n",
       "      <td>0.12</td>\n",
       "      <td>117.48</td>\n",
       "    </tr>\n",
       "    <tr>\n",
       "      <th>1</th>\n",
       "      <td>Alameda County Water District</td>\n",
       "      <td>3937000000.00</td>\n",
       "      <td>3374000000.00</td>\n",
       "      <td>5273000000.00</td>\n",
       "      <td>-0.25</td>\n",
       "      <td>-0.36</td>\n",
       "      <td>0.11</td>\n",
       "      <td>84.23</td>\n",
       "    </tr>\n",
       "    <tr>\n",
       "      <th>2</th>\n",
       "      <td>Alco Water Service</td>\n",
       "      <td>344299000.00</td>\n",
       "      <td>350899000.00</td>\n",
       "      <td>447983000.00</td>\n",
       "      <td>-0.23</td>\n",
       "      <td>-0.22</td>\n",
       "      <td>-0.01</td>\n",
       "      <td>103.25</td>\n",
       "    </tr>\n",
       "    <tr>\n",
       "      <th>3</th>\n",
       "      <td>Alhambra  City of</td>\n",
       "      <td>775637185.75</td>\n",
       "      <td>777996350.08</td>\n",
       "      <td>1060724599.23</td>\n",
       "      <td>-0.27</td>\n",
       "      <td>-0.27</td>\n",
       "      <td>-0.00</td>\n",
       "      <td>89.18</td>\n",
       "    </tr>\n",
       "    <tr>\n",
       "      <th>4</th>\n",
       "      <td>Amador Water Agency</td>\n",
       "      <td>350910000.00</td>\n",
       "      <td>287480000.00</td>\n",
       "      <td>431220000.00</td>\n",
       "      <td>-0.19</td>\n",
       "      <td>-0.33</td>\n",
       "      <td>0.15</td>\n",
       "      <td>102.61</td>\n",
       "    </tr>\n",
       "  </tbody>\n",
       "</table>\n",
       "</div>"
      ],
      "text/plain": [
       "                   supplier_name  total_water_production_16  \\\n",
       "0               Adelanto City of               434024228.54   \n",
       "1  Alameda County Water District              3937000000.00   \n",
       "2             Alco Water Service               344299000.00   \n",
       "3              Alhambra  City of               775637185.75   \n",
       "4            Amador Water Agency               350910000.00   \n",
       "\n",
       "   total_water_production_15  total_water_production_13  savings_16  \\\n",
       "0               387316100.00               393342171.40        0.10   \n",
       "1              3374000000.00              5273000000.00       -0.25   \n",
       "2               350899000.00               447983000.00       -0.23   \n",
       "3               777996350.08              1060724599.23       -0.27   \n",
       "4               287480000.00               431220000.00       -0.19   \n",
       "\n",
       "   savings_15  savings_change  residential_water_usage_mean_16  \n",
       "0       -0.02            0.12                           117.48  \n",
       "1       -0.36            0.11                            84.23  \n",
       "2       -0.22           -0.01                           103.25  \n",
       "3       -0.27           -0.00                            89.18  \n",
       "4       -0.33            0.15                           102.61  "
      ]
     },
     "execution_count": 42,
     "metadata": {},
     "output_type": "execute_result"
    }
   ],
   "source": [
    "summer_table.head(5)"
   ]
  },
  {
   "cell_type": "markdown",
   "metadata": {},
   "source": [
    "##### Calculate summary statistics to judge how many districts regressed in summer 2016"
   ]
  },
  {
   "cell_type": "code",
   "execution_count": 43,
   "metadata": {},
   "outputs": [],
   "source": [
    "savings_16 = (summer_table.total_water_production_16.sum() - summer_table.total_water_production_13.sum()) / (summer_table.total_water_production_13.sum())\n",
    "savings_15 = (summer_table.total_water_production_15.sum() - summer_table.total_water_production_13.sum()) / (summer_table.total_water_production_13.sum())"
   ]
  },
  {
   "cell_type": "code",
   "execution_count": 44,
   "metadata": {},
   "outputs": [
    {
     "data": {
      "text/plain": [
       "'State water use overall backslid 8.80388151728 percentage points'"
      ]
     },
     "execution_count": 44,
     "metadata": {},
     "output_type": "execute_result"
    }
   ],
   "source": [
    "\"State water use overall backslid {} percentage points\".format((savings_16 - savings_15)*100)"
   ]
  },
  {
   "cell_type": "code",
   "execution_count": 45,
   "metadata": {},
   "outputs": [],
   "source": [
    "pct_backslid = len(summer_table[summer_table['savings_change'] > 0]) / len(summer_table)"
   ]
  },
  {
   "cell_type": "code",
   "execution_count": 46,
   "metadata": {},
   "outputs": [
    {
     "data": {
      "text/plain": [
       "'92.8020565553% of urban districts in the state backslid'"
      ]
     },
     "execution_count": 46,
     "metadata": {},
     "output_type": "execute_result"
    }
   ],
   "source": [
    "\"{}% of urban districts in the state backslid\".format(pct_backslid*100)"
   ]
  },
  {
   "cell_type": "code",
   "execution_count": 47,
   "metadata": {},
   "outputs": [
    {
     "data": {
      "text/plain": [
       "<matplotlib.text.Text at 0x7f03fbf01c90>"
      ]
     },
     "execution_count": 47,
     "metadata": {},
     "output_type": "execute_result"
    },
    {
     "data": {
      "image/png": "[encoded data removed]",
      "text/plain": [
       "<matplotlib.figure.Figure at 0x7f03fbee0c10>"
      ]
     },
     "metadata": {},
     "output_type": "display_data"
    }
   ],
   "source": [
    "plt.figure(figsize=(16,8))\n",
    "summer_table.savings_change.hist(bins=30)\n",
    "plt.axvline(0, linewidth=3, c='red')\n",
    "plt.axvline(savings_16 - savings_15, c='black', linewidth=3)\n",
    "plt.annotate(\"Statewide backslide\", (0.093, 48))\n",
    "plt.annotate(\"Used less water\\nin summer 2016\", (-0.075, 46), color='red')\n",
    "plt.annotate(\"Used more water\\nin summer 2016\", (0.25, 46), color='red')\n",
    "plt.ylabel(\"Number of districts\")\n",
    "plt.xlabel(\"Change in water savings between summer '15 and summer '16\")"
   ]
  },
  {
   "cell_type": "markdown",
   "metadata": {},
   "source": [
    "##### Calculate a \"Conservation-Consumption Score\" that adjusts the savings change by the amount of water usage to surface the high-usage districts that regressed the most \n",
    "\n",
    "This indexed score:\n",
    "1. Accounts for how much a district's savings changed between the summers of 2015 and 2016 (in the numerator)\n",
    "2. Gives greater weight to districts with high residential water use (RGPCD). Positive scores indicate districts that backslid (in the denominator)"
   ]
  },
  {
   "cell_type": "markdown",
   "metadata": {},
   "source": [
    "$$\n",
    "CCS = \\frac{SavingsChange}{\\frac{1}{\\sqrt{RGPCD16}}}\n",
    "$$"
   ]
  },
  {
   "cell_type": "code",
   "execution_count": 48,
   "metadata": {},
   "outputs": [],
   "source": [
    "summer_table['cc_score'] = (summer_table['savings_change']) / np.sqrt(1/summer_table['residential_water_usage_mean_16'])"
   ]
  },
  {
   "cell_type": "code",
   "execution_count": 54,
   "metadata": {
    "scrolled": false
   },
   "outputs": [
    {
     "data": {
      "text/html": [
       "<div>\n",
       "<table border=\"1\" class=\"dataframe\">\n",
       "  <thead>\n",
       "    <tr style=\"text-align: right;\">\n",
       "      <th></th>\n",
       "      <th>supplier_name</th>\n",
       "      <th>total_water_production_16</th>\n",
       "      <th>total_water_production_15</th>\n",
       "      <th>total_water_production_13</th>\n",
       "      <th>savings_16</th>\n",
       "      <th>savings_15</th>\n",
       "      <th>savings_change</th>\n",
       "      <th>residential_water_usage_mean_16</th>\n",
       "      <th>cc_score</th>\n",
       "    </tr>\n",
       "  </thead>\n",
       "  <tbody>\n",
       "    <tr>\n",
       "      <th>313</th>\n",
       "      <td>San Juan Water District</td>\n",
       "      <td>1783309914.14</td>\n",
       "      <td>1204845426.88</td>\n",
       "      <td>2045265134.82</td>\n",
       "      <td>-0.13</td>\n",
       "      <td>-0.41</td>\n",
       "      <td>0.28</td>\n",
       "      <td>506.73</td>\n",
       "      <td>6.37</td>\n",
       "    </tr>\n",
       "    <tr>\n",
       "      <th>236</th>\n",
       "      <td>North Marin Water District</td>\n",
       "      <td>1134200000.00</td>\n",
       "      <td>715000000.00</td>\n",
       "      <td>1102000000.00</td>\n",
       "      <td>0.03</td>\n",
       "      <td>-0.35</td>\n",
       "      <td>0.38</td>\n",
       "      <td>165.57</td>\n",
       "      <td>4.89</td>\n",
       "    </tr>\n",
       "    <tr>\n",
       "      <th>321</th>\n",
       "      <td>Santa Fe Irrigation District</td>\n",
       "      <td>1035523249.86</td>\n",
       "      <td>763209212.32</td>\n",
       "      <td>1257134805.37</td>\n",
       "      <td>-0.18</td>\n",
       "      <td>-0.39</td>\n",
       "      <td>0.22</td>\n",
       "      <td>494.66</td>\n",
       "      <td>4.82</td>\n",
       "    </tr>\n",
       "    <tr>\n",
       "      <th>20</th>\n",
       "      <td>Bella Vista Water District</td>\n",
       "      <td>1352609273.48</td>\n",
       "      <td>954418829.68</td>\n",
       "      <td>2133349292.57</td>\n",
       "      <td>-0.37</td>\n",
       "      <td>-0.55</td>\n",
       "      <td>0.19</td>\n",
       "      <td>394.38</td>\n",
       "      <td>3.71</td>\n",
       "    </tr>\n",
       "    <tr>\n",
       "      <th>123</th>\n",
       "      <td>Folsom  City of</td>\n",
       "      <td>2425963874.01</td>\n",
       "      <td>1835195236.86</td>\n",
       "      <td>2725421335.43</td>\n",
       "      <td>-0.11</td>\n",
       "      <td>-0.33</td>\n",
       "      <td>0.22</td>\n",
       "      <td>247.17</td>\n",
       "      <td>3.41</td>\n",
       "    </tr>\n",
       "    <tr>\n",
       "      <th>366</th>\n",
       "      <td>Valley Water Company</td>\n",
       "      <td>353353287.44</td>\n",
       "      <td>283979518.63</td>\n",
       "      <td>410344702.02</td>\n",
       "      <td>-0.14</td>\n",
       "      <td>-0.31</td>\n",
       "      <td>0.17</td>\n",
       "      <td>342.44</td>\n",
       "      <td>3.13</td>\n",
       "    </tr>\n",
       "    <tr>\n",
       "      <th>314</th>\n",
       "      <td>San Lorenzo Valley Water District</td>\n",
       "      <td>206498200.00</td>\n",
       "      <td>138808800.00</td>\n",
       "      <td>243345319.00</td>\n",
       "      <td>-0.15</td>\n",
       "      <td>-0.43</td>\n",
       "      <td>0.28</td>\n",
       "      <td>114.25</td>\n",
       "      <td>2.97</td>\n",
       "    </tr>\n",
       "    <tr>\n",
       "      <th>119</th>\n",
       "      <td>Fair Oaks Water District</td>\n",
       "      <td>1240415368.65</td>\n",
       "      <td>967123776.82</td>\n",
       "      <td>1586443516.01</td>\n",
       "      <td>-0.22</td>\n",
       "      <td>-0.39</td>\n",
       "      <td>0.17</td>\n",
       "      <td>278.96</td>\n",
       "      <td>2.88</td>\n",
       "    </tr>\n",
       "    <tr>\n",
       "      <th>367</th>\n",
       "      <td>Vaughn Water Company</td>\n",
       "      <td>1330959198.00</td>\n",
       "      <td>1112734671.00</td>\n",
       "      <td>1596587387.00</td>\n",
       "      <td>-0.17</td>\n",
       "      <td>-0.30</td>\n",
       "      <td>0.14</td>\n",
       "      <td>441.52</td>\n",
       "      <td>2.87</td>\n",
       "    </tr>\n",
       "    <tr>\n",
       "      <th>388</th>\n",
       "      <td>Yucaipa Valley Water District</td>\n",
       "      <td>1266950000.00</td>\n",
       "      <td>1029590000.00</td>\n",
       "      <td>1363260000.00</td>\n",
       "      <td>-0.07</td>\n",
       "      <td>-0.24</td>\n",
       "      <td>0.17</td>\n",
       "      <td>262.71</td>\n",
       "      <td>2.82</td>\n",
       "    </tr>\n",
       "  </tbody>\n",
       "</table>\n",
       "</div>"
      ],
      "text/plain": [
       "                         supplier_name  total_water_production_16  \\\n",
       "313            San Juan Water District              1783309914.14   \n",
       "236         North Marin Water District              1134200000.00   \n",
       "321       Santa Fe Irrigation District              1035523249.86   \n",
       "20          Bella Vista Water District              1352609273.48   \n",
       "123                    Folsom  City of              2425963874.01   \n",
       "366               Valley Water Company               353353287.44   \n",
       "314  San Lorenzo Valley Water District               206498200.00   \n",
       "119           Fair Oaks Water District              1240415368.65   \n",
       "367               Vaughn Water Company              1330959198.00   \n",
       "388      Yucaipa Valley Water District              1266950000.00   \n",
       "\n",
       "     total_water_production_15  total_water_production_13  savings_16  \\\n",
       "313              1204845426.88              2045265134.82       -0.13   \n",
       "236               715000000.00              1102000000.00        0.03   \n",
       "321               763209212.32              1257134805.37       -0.18   \n",
       "20                954418829.68              2133349292.57       -0.37   \n",
       "123              1835195236.86              2725421335.43       -0.11   \n",
       "366               283979518.63               410344702.02       -0.14   \n",
       "314               138808800.00               243345319.00       -0.15   \n",
       "119               967123776.82              1586443516.01       -0.22   \n",
       "367              1112734671.00              1596587387.00       -0.17   \n",
       "388              1029590000.00              1363260000.00       -0.07   \n",
       "\n",
       "     savings_15  savings_change  residential_water_usage_mean_16  cc_score  \n",
       "313       -0.41            0.28                           506.73      6.37  \n",
       "236       -0.35            0.38                           165.57      4.89  \n",
       "321       -0.39            0.22                           494.66      4.82  \n",
       "20        -0.55            0.19                           394.38      3.71  \n",
       "123       -0.33            0.22                           247.17      3.41  \n",
       "366       -0.31            0.17                           342.44      3.13  \n",
       "314       -0.43            0.28                           114.25      2.97  \n",
       "119       -0.39            0.17                           278.96      2.88  \n",
       "367       -0.30            0.14                           441.52      2.87  \n",
       "388       -0.24            0.17                           262.71      2.82  "
      ]
     },
     "execution_count": 54,
     "metadata": {},
     "output_type": "execute_result"
    }
   ],
   "source": [
    "summer_table.sort_values(\"cc_score\", ascending=False).head(10)"
   ]
  },
  {
   "cell_type": "code",
   "execution_count": 50,
   "metadata": {},
   "outputs": [
    {
     "data": {
      "text/html": [
       "<div>\n",
       "<table border=\"1\" class=\"dataframe\">\n",
       "  <thead>\n",
       "    <tr style=\"text-align: right;\">\n",
       "      <th></th>\n",
       "      <th>supplier_name</th>\n",
       "      <th>total_water_production_16</th>\n",
       "      <th>total_water_production_15</th>\n",
       "      <th>total_water_production_13</th>\n",
       "      <th>savings_16</th>\n",
       "      <th>savings_15</th>\n",
       "      <th>savings_change</th>\n",
       "      <th>residential_water_usage_mean_16</th>\n",
       "      <th>cc_score</th>\n",
       "    </tr>\n",
       "  </thead>\n",
       "  <tbody>\n",
       "    <tr>\n",
       "      <th>157</th>\n",
       "      <td>Hanford  City of</td>\n",
       "      <td>1320227298.00</td>\n",
       "      <td>1478892470.00</td>\n",
       "      <td>1638207120.00</td>\n",
       "      <td>-0.19</td>\n",
       "      <td>-0.10</td>\n",
       "      <td>-0.10</td>\n",
       "      <td>154.41</td>\n",
       "      <td>-1.20</td>\n",
       "    </tr>\n",
       "    <tr>\n",
       "      <th>374</th>\n",
       "      <td>Wasco  City of</td>\n",
       "      <td>340340000.00</td>\n",
       "      <td>383540000.00</td>\n",
       "      <td>537330000.00</td>\n",
       "      <td>-0.37</td>\n",
       "      <td>-0.29</td>\n",
       "      <td>-0.08</td>\n",
       "      <td>101.95</td>\n",
       "      <td>-0.81</td>\n",
       "    </tr>\n",
       "    <tr>\n",
       "      <th>278</th>\n",
       "      <td>Redlands  City of</td>\n",
       "      <td>2373827645.69</td>\n",
       "      <td>2534733080.35</td>\n",
       "      <td>2977565169.64</td>\n",
       "      <td>-0.20</td>\n",
       "      <td>-0.15</td>\n",
       "      <td>-0.05</td>\n",
       "      <td>208.59</td>\n",
       "      <td>-0.78</td>\n",
       "    </tr>\n",
       "    <tr>\n",
       "      <th>258</th>\n",
       "      <td>Patterson  City of</td>\n",
       "      <td>299352884.00</td>\n",
       "      <td>331531760.00</td>\n",
       "      <td>472549824.00</td>\n",
       "      <td>-0.37</td>\n",
       "      <td>-0.30</td>\n",
       "      <td>-0.07</td>\n",
       "      <td>109.45</td>\n",
       "      <td>-0.71</td>\n",
       "    </tr>\n",
       "    <tr>\n",
       "      <th>43</th>\n",
       "      <td>California Water Service Company King City</td>\n",
       "      <td>117795290.86</td>\n",
       "      <td>134772150.21</td>\n",
       "      <td>172538330.60</td>\n",
       "      <td>-0.32</td>\n",
       "      <td>-0.22</td>\n",
       "      <td>-0.10</td>\n",
       "      <td>44.67</td>\n",
       "      <td>-0.66</td>\n",
       "    </tr>\n",
       "    <tr>\n",
       "      <th>25</th>\n",
       "      <td>Blythe  City of</td>\n",
       "      <td>289600000.00</td>\n",
       "      <td>309500000.00</td>\n",
       "      <td>364000000.00</td>\n",
       "      <td>-0.20</td>\n",
       "      <td>-0.15</td>\n",
       "      <td>-0.05</td>\n",
       "      <td>132.59</td>\n",
       "      <td>-0.63</td>\n",
       "    </tr>\n",
       "    <tr>\n",
       "      <th>210</th>\n",
       "      <td>Martinez  City of</td>\n",
       "      <td>261478566.22</td>\n",
       "      <td>281485963.62</td>\n",
       "      <td>324474264.91</td>\n",
       "      <td>-0.19</td>\n",
       "      <td>-0.13</td>\n",
       "      <td>-0.06</td>\n",
       "      <td>48.93</td>\n",
       "      <td>-0.43</td>\n",
       "    </tr>\n",
       "    <tr>\n",
       "      <th>166</th>\n",
       "      <td>Humboldt Bay Municipal Water District</td>\n",
       "      <td>50810000.00</td>\n",
       "      <td>53060000.00</td>\n",
       "      <td>49765000.00</td>\n",
       "      <td>0.02</td>\n",
       "      <td>0.07</td>\n",
       "      <td>-0.05</td>\n",
       "      <td>88.65</td>\n",
       "      <td>-0.43</td>\n",
       "    </tr>\n",
       "    <tr>\n",
       "      <th>235</th>\n",
       "      <td>North Coast County Water District</td>\n",
       "      <td>214788155.83</td>\n",
       "      <td>232613485.70</td>\n",
       "      <td>345158649.33</td>\n",
       "      <td>-0.38</td>\n",
       "      <td>-0.33</td>\n",
       "      <td>-0.05</td>\n",
       "      <td>48.58</td>\n",
       "      <td>-0.36</td>\n",
       "    </tr>\n",
       "    <tr>\n",
       "      <th>224</th>\n",
       "      <td>Morro Bay  City of</td>\n",
       "      <td>92005424.00</td>\n",
       "      <td>97087596.00</td>\n",
       "      <td>119120801.00</td>\n",
       "      <td>-0.23</td>\n",
       "      <td>-0.18</td>\n",
       "      <td>-0.04</td>\n",
       "      <td>64.21</td>\n",
       "      <td>-0.34</td>\n",
       "    </tr>\n",
       "  </tbody>\n",
       "</table>\n",
       "</div>"
      ],
      "text/plain": [
       "                                  supplier_name  total_water_production_16  \\\n",
       "157                            Hanford  City of              1320227298.00   \n",
       "374                              Wasco  City of               340340000.00   \n",
       "278                           Redlands  City of              2373827645.69   \n",
       "258                          Patterson  City of               299352884.00   \n",
       "43   California Water Service Company King City               117795290.86   \n",
       "25                              Blythe  City of               289600000.00   \n",
       "210                           Martinez  City of               261478566.22   \n",
       "166       Humboldt Bay Municipal Water District                50810000.00   \n",
       "235           North Coast County Water District               214788155.83   \n",
       "224                          Morro Bay  City of                92005424.00   \n",
       "\n",
       "     total_water_production_15  total_water_production_13  savings_16  \\\n",
       "157              1478892470.00              1638207120.00       -0.19   \n",
       "374               383540000.00               537330000.00       -0.37   \n",
       "278              2534733080.35              2977565169.64       -0.20   \n",
       "258               331531760.00               472549824.00       -0.37   \n",
       "43                134772150.21               172538330.60       -0.32   \n",
       "25                309500000.00               364000000.00       -0.20   \n",
       "210               281485963.62               324474264.91       -0.19   \n",
       "166                53060000.00                49765000.00        0.02   \n",
       "235               232613485.70               345158649.33       -0.38   \n",
       "224                97087596.00               119120801.00       -0.23   \n",
       "\n",
       "     savings_15  savings_change  residential_water_usage_mean_16  cc_score  \n",
       "157       -0.10           -0.10                           154.41     -1.20  \n",
       "374       -0.29           -0.08                           101.95     -0.81  \n",
       "278       -0.15           -0.05                           208.59     -0.78  \n",
       "258       -0.30           -0.07                           109.45     -0.71  \n",
       "43        -0.22           -0.10                            44.67     -0.66  \n",
       "25        -0.15           -0.05                           132.59     -0.63  \n",
       "210       -0.13           -0.06                            48.93     -0.43  \n",
       "166        0.07           -0.05                            88.65     -0.43  \n",
       "235       -0.33           -0.05                            48.58     -0.36  \n",
       "224       -0.18           -0.04                            64.21     -0.34  "
      ]
     },
     "execution_count": 50,
     "metadata": {},
     "output_type": "execute_result"
    }
   ],
   "source": [
    "summer_table.sort_values(\"cc_score\").head(10)"
   ]
  },
  {
   "cell_type": "code",
   "execution_count": 51,
   "metadata": {},
   "outputs": [
    {
     "data": {
      "text/plain": [
       "<matplotlib.text.Text at 0x7f03fbe81650>"
      ]
     },
     "execution_count": 51,
     "metadata": {},
     "output_type": "execute_result"
    },
    {
     "data": {
      "image/png": "[encoded data removed]",
      "text/plain": [
       "<matplotlib.figure.Figure at 0x7f03fc088e50>"
      ]
     },
     "metadata": {},
     "output_type": "display_data"
    }
   ],
   "source": [
    "plt.figure(figsize=(16,8))\n",
    "summer_table.cc_score.hist(bins=30)\n",
    "plt.axvline(0, linewidth=3, c='red')\n",
    "plt.annotate(\"Used less water\\nin summer 2016\", (-1.5,52), color='red')\n",
    "plt.annotate(\"Used more water\\nin summer 2016\", (4.05,52), color='red')\n",
    "plt.ylabel(\"Number of districts\")\n",
    "plt.xlabel(\"Conservation-Consumption Score\")"
   ]
  },
  {
   "cell_type": "markdown",
   "metadata": {},
   "source": [
    "### Write the combined table out to a CSV "
   ]
  },
  {
   "cell_type": "code",
   "execution_count": 52,
   "metadata": {
    "collapsed": true
   },
   "outputs": [],
   "source": [
    "summer_table.sort_values(\"cc_score\", ascending=False).to_csv(\"analysis.csv\", index=False)"
   ]
  }
 ],
 "metadata": {
  "kernelspec": {
   "display_name": "Python 3",
   "language": "python",
   "name": "python3"
  },
  "language_info": {
   "codemirror_mode": {
    "name": "ipython",
    "version": 3
   },
   "file_extension": ".py",
   "mimetype": "text/x-python",
   "name": "python",
   "nbconvert_exporter": "python",
   "pygments_lexer": "ipython3",
   "version": "3.7.3"
  }
 },
 "nbformat": 4,
 "nbformat_minor": 1
}
